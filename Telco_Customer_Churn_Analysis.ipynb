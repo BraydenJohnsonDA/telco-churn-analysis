{
 "cells": [
  {
   "cell_type": "markdown",
   "id": "b7513861-ebd6-4b23-8178-1a74a2d5eab1",
   "metadata": {},
   "source": [
    "# Telco Customer Churn Analysis\n",
    "\n",
    "**Objective:** Analyze customer churn data to uncover trends, identify key drivers, and provide actionable business insights.\n",
    "\n",
    "**Tools Used:** Python, pandas, Jupyter Notebook\n",
    "\n",
    "---\n",
    "\n",
    "## Step 1: Load the Data\n"
   ]
  },
  {
   "cell_type": "code",
   "execution_count": 1,
   "id": "fc22837b-5230-4e70-bdaa-710c8e36dd0f",
   "metadata": {},
   "outputs": [
    {
     "data": {
      "text/html": [
       "<div>\n",
       "<style scoped>\n",
       "    .dataframe tbody tr th:only-of-type {\n",
       "        vertical-align: middle;\n",
       "    }\n",
       "\n",
       "    .dataframe tbody tr th {\n",
       "        vertical-align: top;\n",
       "    }\n",
       "\n",
       "    .dataframe thead th {\n",
       "        text-align: right;\n",
       "    }\n",
       "</style>\n",
       "<table border=\"1\" class=\"dataframe\">\n",
       "  <thead>\n",
       "    <tr style=\"text-align: right;\">\n",
       "      <th></th>\n",
       "      <th>CustomerID</th>\n",
       "      <th>Count</th>\n",
       "      <th>Country</th>\n",
       "      <th>State</th>\n",
       "      <th>City</th>\n",
       "      <th>Zip Code</th>\n",
       "      <th>Lat Long</th>\n",
       "      <th>Latitude</th>\n",
       "      <th>Longitude</th>\n",
       "      <th>Gender</th>\n",
       "      <th>...</th>\n",
       "      <th>Contract</th>\n",
       "      <th>Paperless Billing</th>\n",
       "      <th>Payment Method</th>\n",
       "      <th>Monthly Charges</th>\n",
       "      <th>Total Charges</th>\n",
       "      <th>Churn Label</th>\n",
       "      <th>Churn Value</th>\n",
       "      <th>Churn Score</th>\n",
       "      <th>CLTV</th>\n",
       "      <th>Churn Reason</th>\n",
       "    </tr>\n",
       "  </thead>\n",
       "  <tbody>\n",
       "    <tr>\n",
       "      <th>0</th>\n",
       "      <td>3668-QPYBK</td>\n",
       "      <td>1</td>\n",
       "      <td>United States</td>\n",
       "      <td>California</td>\n",
       "      <td>Los Angeles</td>\n",
       "      <td>90003</td>\n",
       "      <td>33.964131, -118.272783</td>\n",
       "      <td>33.964131</td>\n",
       "      <td>-118.272783</td>\n",
       "      <td>Male</td>\n",
       "      <td>...</td>\n",
       "      <td>Month-to-month</td>\n",
       "      <td>Yes</td>\n",
       "      <td>Mailed check</td>\n",
       "      <td>53.85</td>\n",
       "      <td>108.15</td>\n",
       "      <td>Yes</td>\n",
       "      <td>1</td>\n",
       "      <td>86</td>\n",
       "      <td>3239</td>\n",
       "      <td>Competitor made better offer</td>\n",
       "    </tr>\n",
       "    <tr>\n",
       "      <th>1</th>\n",
       "      <td>9237-HQITU</td>\n",
       "      <td>1</td>\n",
       "      <td>United States</td>\n",
       "      <td>California</td>\n",
       "      <td>Los Angeles</td>\n",
       "      <td>90005</td>\n",
       "      <td>34.059281, -118.30742</td>\n",
       "      <td>34.059281</td>\n",
       "      <td>-118.307420</td>\n",
       "      <td>Female</td>\n",
       "      <td>...</td>\n",
       "      <td>Month-to-month</td>\n",
       "      <td>Yes</td>\n",
       "      <td>Electronic check</td>\n",
       "      <td>70.70</td>\n",
       "      <td>151.65</td>\n",
       "      <td>Yes</td>\n",
       "      <td>1</td>\n",
       "      <td>67</td>\n",
       "      <td>2701</td>\n",
       "      <td>Moved</td>\n",
       "    </tr>\n",
       "    <tr>\n",
       "      <th>2</th>\n",
       "      <td>9305-CDSKC</td>\n",
       "      <td>1</td>\n",
       "      <td>United States</td>\n",
       "      <td>California</td>\n",
       "      <td>Los Angeles</td>\n",
       "      <td>90006</td>\n",
       "      <td>34.048013, -118.293953</td>\n",
       "      <td>34.048013</td>\n",
       "      <td>-118.293953</td>\n",
       "      <td>Female</td>\n",
       "      <td>...</td>\n",
       "      <td>Month-to-month</td>\n",
       "      <td>Yes</td>\n",
       "      <td>Electronic check</td>\n",
       "      <td>99.65</td>\n",
       "      <td>820.5</td>\n",
       "      <td>Yes</td>\n",
       "      <td>1</td>\n",
       "      <td>86</td>\n",
       "      <td>5372</td>\n",
       "      <td>Moved</td>\n",
       "    </tr>\n",
       "    <tr>\n",
       "      <th>3</th>\n",
       "      <td>7892-POOKP</td>\n",
       "      <td>1</td>\n",
       "      <td>United States</td>\n",
       "      <td>California</td>\n",
       "      <td>Los Angeles</td>\n",
       "      <td>90010</td>\n",
       "      <td>34.062125, -118.315709</td>\n",
       "      <td>34.062125</td>\n",
       "      <td>-118.315709</td>\n",
       "      <td>Female</td>\n",
       "      <td>...</td>\n",
       "      <td>Month-to-month</td>\n",
       "      <td>Yes</td>\n",
       "      <td>Electronic check</td>\n",
       "      <td>104.80</td>\n",
       "      <td>3046.05</td>\n",
       "      <td>Yes</td>\n",
       "      <td>1</td>\n",
       "      <td>84</td>\n",
       "      <td>5003</td>\n",
       "      <td>Moved</td>\n",
       "    </tr>\n",
       "    <tr>\n",
       "      <th>4</th>\n",
       "      <td>0280-XJGEX</td>\n",
       "      <td>1</td>\n",
       "      <td>United States</td>\n",
       "      <td>California</td>\n",
       "      <td>Los Angeles</td>\n",
       "      <td>90015</td>\n",
       "      <td>34.039224, -118.266293</td>\n",
       "      <td>34.039224</td>\n",
       "      <td>-118.266293</td>\n",
       "      <td>Male</td>\n",
       "      <td>...</td>\n",
       "      <td>Month-to-month</td>\n",
       "      <td>Yes</td>\n",
       "      <td>Bank transfer (automatic)</td>\n",
       "      <td>103.70</td>\n",
       "      <td>5036.3</td>\n",
       "      <td>Yes</td>\n",
       "      <td>1</td>\n",
       "      <td>89</td>\n",
       "      <td>5340</td>\n",
       "      <td>Competitor had better devices</td>\n",
       "    </tr>\n",
       "  </tbody>\n",
       "</table>\n",
       "<p>5 rows × 33 columns</p>\n",
       "</div>"
      ],
      "text/plain": [
       "   CustomerID  Count        Country       State         City  Zip Code  \\\n",
       "0  3668-QPYBK      1  United States  California  Los Angeles     90003   \n",
       "1  9237-HQITU      1  United States  California  Los Angeles     90005   \n",
       "2  9305-CDSKC      1  United States  California  Los Angeles     90006   \n",
       "3  7892-POOKP      1  United States  California  Los Angeles     90010   \n",
       "4  0280-XJGEX      1  United States  California  Los Angeles     90015   \n",
       "\n",
       "                 Lat Long   Latitude   Longitude  Gender  ...        Contract  \\\n",
       "0  33.964131, -118.272783  33.964131 -118.272783    Male  ...  Month-to-month   \n",
       "1   34.059281, -118.30742  34.059281 -118.307420  Female  ...  Month-to-month   \n",
       "2  34.048013, -118.293953  34.048013 -118.293953  Female  ...  Month-to-month   \n",
       "3  34.062125, -118.315709  34.062125 -118.315709  Female  ...  Month-to-month   \n",
       "4  34.039224, -118.266293  34.039224 -118.266293    Male  ...  Month-to-month   \n",
       "\n",
       "  Paperless Billing             Payment Method  Monthly Charges Total Charges  \\\n",
       "0               Yes               Mailed check            53.85        108.15   \n",
       "1               Yes           Electronic check            70.70        151.65   \n",
       "2               Yes           Electronic check            99.65         820.5   \n",
       "3               Yes           Electronic check           104.80       3046.05   \n",
       "4               Yes  Bank transfer (automatic)           103.70        5036.3   \n",
       "\n",
       "  Churn Label Churn Value Churn Score  CLTV                   Churn Reason  \n",
       "0         Yes           1          86  3239   Competitor made better offer  \n",
       "1         Yes           1          67  2701                          Moved  \n",
       "2         Yes           1          86  5372                          Moved  \n",
       "3         Yes           1          84  5003                          Moved  \n",
       "4         Yes           1          89  5340  Competitor had better devices  \n",
       "\n",
       "[5 rows x 33 columns]"
      ]
     },
     "execution_count": 1,
     "metadata": {},
     "output_type": "execute_result"
    }
   ],
   "source": [
    "import pandas as pd\n",
    "\n",
    "# Load the Excel file\n",
    "excel_file = pd.ExcelFile(\"Telco_customer_churn.xlsx\")\n",
    "df = excel_file.parse(\"Telco_Churn\")\n",
    "\n",
    "# Preview the data\n",
    "df.head()\n"
   ]
  },
  {
   "cell_type": "markdown",
   "id": "cc5319e1-b4a0-499b-a0aa-83c85b74fa6d",
   "metadata": {},
   "source": [
    "## Step 2: Missing Values Check\n",
    "\n",
    "This step identifies any columns with missing or null values that may require cleaning or further attention.\n"
   ]
  },
  {
   "cell_type": "code",
   "execution_count": 2,
   "id": "6989f260-5fdb-4b05-a572-db555a5c081e",
   "metadata": {},
   "outputs": [
    {
     "data": {
      "text/plain": [
       "CustomerID              0\n",
       "Count                   0\n",
       "Country                 0\n",
       "State                   0\n",
       "City                    0\n",
       "Zip Code                0\n",
       "Lat Long                0\n",
       "Latitude                0\n",
       "Longitude               0\n",
       "Gender                  0\n",
       "Senior Citizen          0\n",
       "Partner                 0\n",
       "Dependents              0\n",
       "Tenure Months           0\n",
       "Phone Service           0\n",
       "Multiple Lines          0\n",
       "Internet Service        0\n",
       "Online Security         0\n",
       "Online Backup           0\n",
       "Device Protection       0\n",
       "Tech Support            0\n",
       "Streaming TV            0\n",
       "Streaming Movies        0\n",
       "Contract                0\n",
       "Paperless Billing       0\n",
       "Payment Method          0\n",
       "Monthly Charges         0\n",
       "Total Charges           0\n",
       "Churn Label             0\n",
       "Churn Value             0\n",
       "Churn Score             0\n",
       "CLTV                    0\n",
       "Churn Reason         5174\n",
       "dtype: int64"
      ]
     },
     "execution_count": 2,
     "metadata": {},
     "output_type": "execute_result"
    }
   ],
   "source": [
    "df.isnull().sum()"
   ]
  },
  {
   "cell_type": "markdown",
   "id": "95a16191-19b7-400a-8de9-0240d8c63ce9",
   "metadata": {},
   "source": [
    "## Step 3: Inspect and Fix Data Types\n",
    "\n",
    "This step ensures that each column has the correct data type for analysis.\n",
    "\n",
    "- `Total Charges` should be numeric, but is currently stored as an object.  \n",
    "- `Senior Citizen` is also an object and will be converted to an integer (0 = No, 1 = Yes)."
   ]
  },
  {
   "cell_type": "code",
   "execution_count": 3,
   "id": "1edfa8ad-8813-4049-b749-7d8183d2be00",
   "metadata": {},
   "outputs": [
    {
     "data": {
      "text/plain": [
       "CustomerID            object\n",
       "Count                  int64\n",
       "Country               object\n",
       "State                 object\n",
       "City                  object\n",
       "Zip Code               int64\n",
       "Lat Long              object\n",
       "Latitude             float64\n",
       "Longitude            float64\n",
       "Gender                object\n",
       "Senior Citizen        object\n",
       "Partner               object\n",
       "Dependents            object\n",
       "Tenure Months          int64\n",
       "Phone Service         object\n",
       "Multiple Lines        object\n",
       "Internet Service      object\n",
       "Online Security       object\n",
       "Online Backup         object\n",
       "Device Protection     object\n",
       "Tech Support          object\n",
       "Streaming TV          object\n",
       "Streaming Movies      object\n",
       "Contract              object\n",
       "Paperless Billing     object\n",
       "Payment Method        object\n",
       "Monthly Charges      float64\n",
       "Total Charges         object\n",
       "Churn Label           object\n",
       "Churn Value            int64\n",
       "Churn Score            int64\n",
       "CLTV                   int64\n",
       "Churn Reason          object\n",
       "dtype: object"
      ]
     },
     "execution_count": 3,
     "metadata": {},
     "output_type": "execute_result"
    }
   ],
   "source": [
    "df.dtypes\n"
   ]
  },
  {
   "cell_type": "markdown",
   "id": "33431942-7206-4831-a897-ba85cdfead18",
   "metadata": {},
   "source": [
    "## Step 4: Fix Data Types\n",
    "\n",
    "Two columns require conversion:\n",
    "\n",
    "- `Total Charges` is stored as an object (likely due to empty or non-numeric entries) and needs to be converted to float.\n",
    "- `Senior Citizen` is stored as an object with \"Yes\"/\"No\" values and will be mapped to integers (1 = Yes, 0 = No)."
   ]
  },
  {
   "cell_type": "markdown",
   "id": "43eac5a4-9297-433e-a220-3c82b3a34390",
   "metadata": {},
   "source": [
    "# Convert 'Total Charges' to float (non-numeric values will become NaN)\n",
    "df['Total Charges'] = pd.to_numeric(df['Total Charges'], errors='coerce')\n",
    "\n",
    "# Map 'Senior Citizen' from 'Yes'/'No' to 1/0\n",
    "df['Senior Citizen'] = df['Senior Citizen'].map({'Yes': 1, 'No': 0})\n"
   ]
  },
  {
   "cell_type": "code",
   "execution_count": 6,
   "id": "70c6b57e-cbce-4a91-bd90-af2ee474f9df",
   "metadata": {},
   "outputs": [
    {
     "data": {
      "text/plain": [
       "11"
      ]
     },
     "execution_count": 6,
     "metadata": {},
     "output_type": "execute_result"
    }
   ],
   "source": [
    "# Confirm the data types were updated\n",
    "df.dtypes[['Total Charges', 'Senior Citizen']]\n",
    "\n",
    "# Check how many Total Charges values are now NaN (optional)\n",
    "df['Total Charges'].isnull().sum()\n"
   ]
  },
  {
   "cell_type": "markdown",
   "id": "68b5655a-931d-4af8-981a-e294e9a53eb2",
   "metadata": {},
   "source": [
    "## Step 5: Handle Missing `Total Charges` Values\n",
    "\n",
    "The conversion process resulted in 11 missing values in the `Total Charges` column. These entries likely belong to new customers with no billing history.\n",
    "\n",
    "To maintain data integrity, these rows will be removed from the dataset.\n"
   ]
  },
  {
   "cell_type": "code",
   "execution_count": 7,
   "id": "37fa0533-0883-491b-a7fa-2eabb869f1b6",
   "metadata": {},
   "outputs": [],
   "source": [
    "# Drop rows where Total Charges is NaN\n",
    "df = df[df['Total Charges'].notnull()]\n"
   ]
  },
  {
   "cell_type": "markdown",
   "id": "514660d9-7541-454b-a9f0-e20b5369fb95",
   "metadata": {},
   "source": [
    "## Step 6: Churn Distribution Overview\n",
    "\n",
    "The `Churn Label` column indicates whether a customer has churned (`Yes`) or not (`No`). Understanding the churn rate is a key first step in evaluating overall customer retention.\n",
    "\n",
    "We’ll calculate the count and percentage of churned vs. retained customers.\n"
   ]
  },
  {
   "cell_type": "code",
   "execution_count": 8,
   "id": "1b0ba728-3e0d-4c1a-b37c-072674922fa1",
   "metadata": {},
   "outputs": [
    {
     "name": "stdout",
     "output_type": "stream",
     "text": [
      "Churn Counts:\n",
      " Churn Label\n",
      "No     5163\n",
      "Yes    1869\n",
      "Name: count, dtype: int64\n",
      "\n",
      "Churn Percentages:\n",
      " Churn Label\n",
      "No     73.42\n",
      "Yes    26.58\n",
      "Name: proportion, dtype: float64\n"
     ]
    }
   ],
   "source": [
    "# Count of churned vs. retained customers\n",
    "churn_counts = df['Churn Label'].value_counts()\n",
    "churn_percent = df['Churn Label'].value_counts(normalize=True) * 100\n",
    "\n",
    "print(\"Churn Counts:\\n\", churn_counts)\n",
    "print(\"\\nChurn Percentages:\\n\", churn_percent.round(2))\n"
   ]
  },
  {
   "cell_type": "markdown",
   "id": "3ed52bb7-9717-420d-8d3e-2a4bb07e371c",
   "metadata": {},
   "source": [
    "## Step 7: Churn by Contract Type\n",
    "\n",
    "This analysis explores how churn varies by customer contract type (Month-to-month, One year, Two year). Customers on flexible contracts are often more likely to churn due to fewer switching barriers.\n"
   ]
  },
  {
   "cell_type": "code",
   "execution_count": null,
   "id": "d5025ec6-77db-43e4-8953-e1ff21cbae3f",
   "metadata": {},
   "outputs": [],
   "source": [
    "# Create a crosstab of churn by contract type\n",
    "contract_churn = pd.crosstab(df['Contract'], df['Churn Label'], normalize='index') * 100\n",
    "contract_churn = contract_churn.round(1)\n",
    "\n",
    "# Display churn percentages by contract type\n",
    "contract_churn\n"
   ]
  },
  {
   "cell_type": "markdown",
   "id": "346f6e38-bfec-44ef-8270-7fe2d83fa68d",
   "metadata": {},
   "source": [
    "## Step 8: Visualize Churn by Contract Type\n",
    "\n",
    "The chart below shows the percentage of customers who churned under each contract type. The data confirms that customers with month-to-month contracts churn at a significantly higher rate compared to those with one- or two-year agreements.\n"
   ]
  },
  {
   "cell_type": "code",
   "execution_count": 20,
   "id": "087513a1-2b17-485a-8002-ad14452381ab",
   "metadata": {},
   "outputs": [
    {
     "data": {
      "image/png": "[encoded data removed]",
      "text/plain": [
       "<Figure size 640x480 with 1 Axes>"
      ]
     },
     "metadata": {},
     "output_type": "display_data"
    }
   ],
   "source": [
    "import matplotlib.pyplot as plt\n",
    "\n",
    "# Plot the churn percentage for 'Yes' only\n",
    "contract_churn['Yes'].plot(kind='bar', color='orange', edgecolor='black')\n",
    "\n",
    "plt.title('Churn Rate by Contract Type')\n",
    "plt.ylabel('Churn Percentage (%)')\n",
    "plt.xlabel('Contract Type')\n",
    "plt.ylim(0, 50)\n",
    "plt.xticks(rotation=0)\n",
    "plt.grid(axis='y', linestyle='--', alpha=0.7)\n",
    "\n",
    "plt.tight_layout()\n",
    "plt.show()\n"
   ]
  },
  {
   "cell_type": "markdown",
   "id": "095ab523-7aee-4946-b04e-f3c90be57c4f",
   "metadata": {},
   "source": [
    "## Step 9: Churn by Payment Method\n",
    "\n",
    "This analysis examines how churn varies by payment method. Electronic check users are often more likely to churn, which may reflect lower engagement or lack of autopay incentives.\n"
   ]
  },
  {
   "cell_type": "code",
   "execution_count": 21,
   "id": "7144ed83-5bb7-4b88-8f19-fb77d5bd761f",
   "metadata": {},
   "outputs": [
    {
     "data": {
      "text/html": [
       "<div>\n",
       "<style scoped>\n",
       "    .dataframe tbody tr th:only-of-type {\n",
       "        vertical-align: middle;\n",
       "    }\n",
       "\n",
       "    .dataframe tbody tr th {\n",
       "        vertical-align: top;\n",
       "    }\n",
       "\n",
       "    .dataframe thead th {\n",
       "        text-align: right;\n",
       "    }\n",
       "</style>\n",
       "<table border=\"1\" class=\"dataframe\">\n",
       "  <thead>\n",
       "    <tr style=\"text-align: right;\">\n",
       "      <th>Churn Label</th>\n",
       "      <th>No</th>\n",
       "      <th>Yes</th>\n",
       "    </tr>\n",
       "    <tr>\n",
       "      <th>Payment Method</th>\n",
       "      <th></th>\n",
       "      <th></th>\n",
       "    </tr>\n",
       "  </thead>\n",
       "  <tbody>\n",
       "    <tr>\n",
       "      <th>Bank transfer (automatic)</th>\n",
       "      <td>83.3</td>\n",
       "      <td>16.7</td>\n",
       "    </tr>\n",
       "    <tr>\n",
       "      <th>Credit card (automatic)</th>\n",
       "      <td>84.7</td>\n",
       "      <td>15.3</td>\n",
       "    </tr>\n",
       "    <tr>\n",
       "      <th>Electronic check</th>\n",
       "      <td>54.7</td>\n",
       "      <td>45.3</td>\n",
       "    </tr>\n",
       "    <tr>\n",
       "      <th>Mailed check</th>\n",
       "      <td>80.8</td>\n",
       "      <td>19.2</td>\n",
       "    </tr>\n",
       "  </tbody>\n",
       "</table>\n",
       "</div>"
      ],
      "text/plain": [
       "Churn Label                  No   Yes\n",
       "Payment Method                       \n",
       "Bank transfer (automatic)  83.3  16.7\n",
       "Credit card (automatic)    84.7  15.3\n",
       "Electronic check           54.7  45.3\n",
       "Mailed check               80.8  19.2"
      ]
     },
     "execution_count": 21,
     "metadata": {},
     "output_type": "execute_result"
    }
   ],
   "source": [
    "# Churn percentage by payment method\n",
    "payment_churn = pd.crosstab(df['Payment Method'], df['Churn Label'], normalize='index') * 100\n",
    "payment_churn = payment_churn.round(1)\n",
    "\n",
    "# Show results\n",
    "payment_churn\n"
   ]
  },
  {
   "cell_type": "markdown",
   "id": "87faf947-854a-4702-abda-b4ab65d15cdb",
   "metadata": {},
   "source": [
    "## Step 10: Visualize Churn by Payment Method\n",
    "\n",
    "Customers who pay by electronic check churn at the highest rate (45.3%), while those using automated methods like credit card or bank transfer have significantly lower churn. This suggests that offering or incentivizing autopay could help reduce customer loss.\n"
   ]
  },
  {
   "cell_type": "code",
   "execution_count": 22,
   "id": "e2108f61-b857-45cd-b6b8-a9d496e173cf",
   "metadata": {},
   "outputs": [
    {
     "data": {
      "image/png": "[encoded data removed]",
      "text/plain": [
       "<Figure size 640x480 with 1 Axes>"
      ]
     },
     "metadata": {},
     "output_type": "display_data"
    }
   ],
   "source": [
    "# Plot churn % (Yes) by payment method\n",
    "payment_churn['Yes'].sort_values().plot(kind='barh', color='skyblue', edgecolor='black')\n",
    "\n",
    "plt.title('Churn Rate by Payment Method')\n",
    "plt.xlabel('Churn Percentage (%)')\n",
    "plt.ylabel('Payment Method')\n",
    "plt.xlim(0, 50)\n",
    "plt.grid(axis='x', linestyle='--', alpha=0.7)\n",
    "\n",
    "plt.tight_layout()\n",
    "plt.show()\n"
   ]
  },
  {
   "cell_type": "markdown",
   "id": "4089ad93-972f-4bc9-ae5a-798c74c46e7c",
   "metadata": {},
   "source": [
    "## Step 11: Churn by Senior Citizen Status\n",
    "\n",
    "This analysis explores whether senior citizens are more likely to churn compared to younger customers. Understanding age-related behavior can help tailor communication and support strategies.\n"
   ]
  },
  {
   "cell_type": "code",
   "execution_count": 15,
   "id": "5acaea77-3839-465e-821d-81f1f4b123b0",
   "metadata": {},
   "outputs": [
    {
     "data": {
      "text/html": [
       "<div>\n",
       "<style scoped>\n",
       "    .dataframe tbody tr th:only-of-type {\n",
       "        vertical-align: middle;\n",
       "    }\n",
       "\n",
       "    .dataframe tbody tr th {\n",
       "        vertical-align: top;\n",
       "    }\n",
       "\n",
       "    .dataframe thead th {\n",
       "        text-align: right;\n",
       "    }\n",
       "</style>\n",
       "<table border=\"1\" class=\"dataframe\">\n",
       "  <thead>\n",
       "    <tr style=\"text-align: right;\">\n",
       "      <th>Churn Label</th>\n",
       "    </tr>\n",
       "    <tr>\n",
       "      <th>Senior</th>\n",
       "    </tr>\n",
       "  </thead>\n",
       "  <tbody>\n",
       "  </tbody>\n",
       "</table>\n",
       "</div>"
      ],
      "text/plain": [
       "Empty DataFrame\n",
       "Columns: []\n",
       "Index: []"
      ]
     },
     "execution_count": 15,
     "metadata": {},
     "output_type": "execute_result"
    }
   ],
   "source": [
    "df['Senior'] = df['Senior Citizen'].map({0: 'Not Senior', 1: 'Senior'})\n",
    "\n",
    "# Crosstab of churn by senior status\n",
    "senior_churn = pd.crosstab(df['Senior'], df['Churn Label'], normalize='index') * 100\n",
    "senior_churn = senior_churn.round(1)\n",
    "\n",
    "senior_churn\n"
   ]
  },
  {
   "cell_type": "code",
   "execution_count": 16,
   "id": "1b93bd50-c506-4f1d-8958-989169557374",
   "metadata": {},
   "outputs": [
    {
     "data": {
      "text/plain": [
       "array([nan])"
      ]
     },
     "execution_count": 16,
     "metadata": {},
     "output_type": "execute_result"
    }
   ],
   "source": [
    "df['Senior Citizen'].unique()\n"
   ]
  },
  {
   "cell_type": "code",
   "execution_count": 17,
   "id": "3b9bc12e-3f9f-478d-a2e6-8f6db1471d4d",
   "metadata": {},
   "outputs": [
    {
     "data": {
      "text/plain": [
       "Senior Citizen\n",
       "NaN    7032\n",
       "Name: count, dtype: int64"
      ]
     },
     "execution_count": 17,
     "metadata": {},
     "output_type": "execute_result"
    }
   ],
   "source": [
    "df['Senior Citizen'].value_counts(dropna=False)\n"
   ]
  },
  {
   "cell_type": "code",
   "execution_count": 18,
   "id": "f0f7733d-b8bf-4321-9b57-3ad733fe6708",
   "metadata": {},
   "outputs": [],
   "source": [
    "import pandas as pd\n",
    "\n",
    "# Reload clean data\n",
    "df = pd.read_excel(\"Telco_customer_churn.xlsx\", sheet_name=\"Telco_Churn\")\n"
   ]
  },
  {
   "cell_type": "code",
   "execution_count": 19,
   "id": "deaade6c-1030-462f-8e32-1250a65c6301",
   "metadata": {},
   "outputs": [],
   "source": [
    "# Fix 'Total Charges' column\n",
    "df['Total Charges'] = pd.to_numeric(df['Total Charges'], errors='coerce')\n",
    "\n",
    "# Drop rows with missing Total Charges\n",
    "df = df[df['Total Charges'].notnull()]\n",
    "\n",
    "# Fix 'Senior Citizen' column\n",
    "df['Senior Citizen'] = df['Senior Citizen'].map({'Yes': 1, 'No': 0})\n",
    "\n",
    "# Create a labeled version for analysis\n",
    "df['Senior'] = df['Senior Citizen'].apply(lambda x: 'Senior' if x == 1 else 'Not Senior')\n"
   ]
  },
  {
   "cell_type": "code",
   "execution_count": 23,
   "id": "f4d32b54-38de-4777-897d-77b32199d03e",
   "metadata": {},
   "outputs": [
    {
     "data": {
      "text/plain": [
       "Senior\n",
       "Not Senior    5890\n",
       "Senior        1142\n",
       "Name: count, dtype: int64"
      ]
     },
     "execution_count": 23,
     "metadata": {},
     "output_type": "execute_result"
    }
   ],
   "source": [
    "df['Senior'].value_counts()"
   ]
  },
  {
   "cell_type": "markdown",
   "id": "a2083e4f-3b41-40ea-9957-68d3509d85b6",
   "metadata": {},
   "source": [
    "## Step 11: Churn by Senior Citizen Status (Visualization)\n",
    "\n",
    "This chart shows the churn rate for senior citizens compared to non-senior customers. The goal is to determine whether age is a meaningful predictor of customer retention or loss.\n"
   ]
  },
  {
   "cell_type": "code",
   "execution_count": 24,
   "id": "edd66c55-d0fc-49a9-8da0-9b14de5ed552",
   "metadata": {},
   "outputs": [
    {
     "data": {
      "image/png": "[encoded data removed]",
      "text/plain": [
       "<Figure size 640x480 with 1 Axes>"
      ]
     },
     "metadata": {},
     "output_type": "display_data"
    }
   ],
   "source": [
    "# Churn % by senior status\n",
    "senior_churn = pd.crosstab(df['Senior'], df['Churn Label'], normalize='index') * 100\n",
    "senior_churn = senior_churn.round(1)\n",
    "\n",
    "# Bar chart\n",
    "senior_churn['Yes'].plot(kind='bar', color='mediumseagreen', edgecolor='black')\n",
    "\n",
    "plt.title('Churn Rate by Senior Status')\n",
    "plt.ylabel('Churn Percentage (%)')\n",
    "plt.xlabel('Customer Group')\n",
    "plt.ylim(0, 50)\n",
    "plt.xticks(rotation=0)\n",
    "plt.grid(axis='y', linestyle='--', alpha=0.7)\n",
    "\n",
    "plt.tight_layout()\n",
    "plt.show()\n"
   ]
  },
  {
   "cell_type": "markdown",
   "id": "61c312a5-77ed-4a12-9349-c13eb58e3f61",
   "metadata": {},
   "source": [
    "## Step 12: Tenure vs. Churn\n",
    "\n",
    "This analysis explores the relationship between customer tenure (in months) and churn. The goal is to determine whether newer customers are more likely to churn compared to long-term subscribers.\n"
   ]
  },
  {
   "cell_type": "code",
   "execution_count": 26,
   "id": "acd32f25-9b89-41f7-98ef-14ecebd39478",
   "metadata": {},
   "outputs": [
    {
     "data": {
      "image/png": "[encoded data removed]",
      "text/plain": [
       "<Figure size 800x500 with 1 Axes>"
      ]
     },
     "metadata": {},
     "output_type": "display_data"
    }
   ],
   "source": [
    "plt.figure(figsize=(8, 5))\n",
    "sns.boxplot(data=df, x='Churn Label', y='Tenure Months', hue='Churn Label', palette='Set2', legend=False)\n",
    "\n",
    "plt.title('Customer Tenure by Churn Status')\n",
    "plt.xlabel('Churned')\n",
    "plt.ylabel('Tenure (Months)')\n",
    "plt.tight_layout()\n",
    "plt.show()\n"
   ]
  },
  {
   "cell_type": "markdown",
   "id": "9b6a8dac-89a9-41d7-9216-9fe938719fa0",
   "metadata": {},
   "source": [
    "### Insight:\n",
    "\n",
    "The boxplot clearly shows that customers who churn tend to have significantly shorter tenures. This indicates that churn is highest during the early stages of the customer lifecycle.\n",
    "\n",
    "**Business implication:**  \n",
    "Retention efforts should focus on new customers, especially within their first few months of service.\n"
   ]
  },
  {
   "cell_type": "markdown",
   "id": "0499e00a-2e25-4289-9958-56a1b8d231ef",
   "metadata": {},
   "source": [
    "## Step 13: Churn by Internet Service Type\n",
    "\n",
    "This section explores whether the type of internet service (DSL, Fiber Optic, or None) impacts customer churn. Differences in churn rates can signal product satisfaction or service quality issues.\n"
   ]
  },
  {
   "cell_type": "code",
   "execution_count": 27,
   "id": "08f4a93a-2cfc-4d62-9c77-fc2d9155ac79",
   "metadata": {},
   "outputs": [
    {
     "data": {
      "text/html": [
       "<div>\n",
       "<style scoped>\n",
       "    .dataframe tbody tr th:only-of-type {\n",
       "        vertical-align: middle;\n",
       "    }\n",
       "\n",
       "    .dataframe tbody tr th {\n",
       "        vertical-align: top;\n",
       "    }\n",
       "\n",
       "    .dataframe thead th {\n",
       "        text-align: right;\n",
       "    }\n",
       "</style>\n",
       "<table border=\"1\" class=\"dataframe\">\n",
       "  <thead>\n",
       "    <tr style=\"text-align: right;\">\n",
       "      <th>Churn Label</th>\n",
       "      <th>No</th>\n",
       "      <th>Yes</th>\n",
       "    </tr>\n",
       "    <tr>\n",
       "      <th>Internet Service</th>\n",
       "      <th></th>\n",
       "      <th></th>\n",
       "    </tr>\n",
       "  </thead>\n",
       "  <tbody>\n",
       "    <tr>\n",
       "      <th>DSL</th>\n",
       "      <td>81.0</td>\n",
       "      <td>19.0</td>\n",
       "    </tr>\n",
       "    <tr>\n",
       "      <th>Fiber optic</th>\n",
       "      <td>58.1</td>\n",
       "      <td>41.9</td>\n",
       "    </tr>\n",
       "    <tr>\n",
       "      <th>No</th>\n",
       "      <td>92.6</td>\n",
       "      <td>7.4</td>\n",
       "    </tr>\n",
       "  </tbody>\n",
       "</table>\n",
       "</div>"
      ],
      "text/plain": [
       "Churn Label         No   Yes\n",
       "Internet Service            \n",
       "DSL               81.0  19.0\n",
       "Fiber optic       58.1  41.9\n",
       "No                92.6   7.4"
      ]
     },
     "execution_count": 27,
     "metadata": {},
     "output_type": "execute_result"
    }
   ],
   "source": [
    "# Calculate churn % by internet service type\n",
    "internet_churn = pd.crosstab(df['Internet Service'], df['Churn Label'], normalize='index') * 100\n",
    "internet_churn = internet_churn.round(1)\n",
    "\n",
    "internet_churn\n"
   ]
  },
  {
   "cell_type": "markdown",
   "id": "57a2df46-36a3-446d-99cd-7e2bdc0d0ade",
   "metadata": {},
   "source": [
    "## Step 14: Visualize Churn by Internet Service\n",
    "\n",
    "Customers with fiber optic internet have the highest churn rate (41.9%), which may indicate dissatisfaction with service performance, pricing, or reliability. DSL and no-service customers have significantly lower churn.\n"
   ]
  },
  {
   "cell_type": "code",
   "execution_count": 28,
   "id": "65ee51c5-fae2-4cf3-b9d8-6b070a085776",
   "metadata": {},
   "outputs": [
    {
     "data": {
      "image/png": "[encoded data removed]",
      "text/plain": [
       "<Figure size 640x480 with 1 Axes>"
      ]
     },
     "metadata": {},
     "output_type": "display_data"
    }
   ],
   "source": [
    "# Bar chart: churn % (Yes) by internet service type\n",
    "internet_churn['Yes'].sort_values().plot(kind='barh', color='steelblue', edgecolor='black')\n",
    "\n",
    "plt.title('Churn Rate by Internet Service Type')\n",
    "plt.xlabel('Churn Percentage (%)')\n",
    "plt.ylabel('Internet Service')\n",
    "plt.xlim(0, 50)\n",
    "plt.grid(axis='x', linestyle='--', alpha=0.7)\n",
    "\n",
    "plt.tight_layout()\n",
    "plt.show()\n"
   ]
  },
  {
   "cell_type": "markdown",
   "id": "ddd38cb7-9759-4c46-8a6e-9b4286b2c8bb",
   "metadata": {},
   "source": [
    "## Step 15: Summary of Key Findings\n",
    "\n",
    "After exploring customer churn across various features, several strong patterns emerged:\n",
    "\n",
    "- **Overall churn rate** is approximately **27%**, indicating significant room for retention improvement.\n",
    "- Customers with **month-to-month contracts** are far more likely to churn (42.7%) compared to one-year (11.3%) or two-year (2.8%) contract holders.\n",
    "- Those who pay by **electronic check** churn at a rate of 45.3%, more than double the churn rate of customers using automatic payments.\n",
    "- **Senior citizens** have a slightly higher churn rate than younger customers, though the difference is less dramatic.\n",
    "- **New customers** (low tenure) churn significantly more than long-tenured customers.\n",
    "- Customers with **fiber optic internet** churn at 41.9%, compared to just 19.0% for DSL and 7.4% for customers with no internet service.\n",
    "\n",
    "---\n",
    "\n",
    "## 📌 Step 16: Business Recommendations\n",
    "\n",
    "Based on the analysis, the following actions are recommended:\n",
    "\n",
    "1. **Incentivize Long-Term Contracts**  \n",
    "   Offer discounts, bundles, or loyalty perks to encourage one- or two-year plans instead of month-to-month.\n",
    "\n",
    "2. **Promote Autopay Options**  \n",
    "   Reduce churn by encouraging customers to use credit card or bank transfer autopay instead of electronic check.\n",
    "\n",
    "3. **Focus Retention on New Customers**  \n",
    "   Develop targeted onboarding, first-bill experiences, or check-in touchpoints in the first 3–6 months.\n",
    "\n",
    "4. **Investigate Fiber Optic Churn Causes**  \n",
    "   Evaluate pricing, technical support, and satisfaction metrics for fiber optic users. This product group is churning aggressively.\n",
    "\n",
    "5. **Senior Segment Engagement**  \n",
    "   Consider personalized support or communication strategies to improve retention among older customers.\n",
    "\n",
    "---\n",
    "\n",
    "## 🏁 Step 17: Final Notes\n",
    "\n",
    "This analysis provides a data-driven foundation to reduce churn and boost customer retention. Future steps could include:\n",
    "\n",
    "- **Predictive modeling** using logistic regression or decision trees  \n",
    "- **Customer segmentation** for marketing or support targeting  \n",
    "- **Time series analysis** of churn trends over quarters or years\n",
    "\n"
   ]
  },
  {
   "cell_type": "code",
   "execution_count": null,
   "id": "55557154-39ac-4c4a-a88f-b9239cfb6ae3",
   "metadata": {},
   "outputs": [],
   "source": []
  }
 ],
 "metadata": {
  "kernelspec": {
   "display_name": "Python [conda env:base] *",
   "language": "python",
   "name": "conda-base-py"
  },
  "language_info": {
   "codemirror_mode": {
    "name": "ipython",
    "version": 3
   },
   "file_extension": ".py",
   "mimetype": "text/x-python",
   "name": "python",
   "nbconvert_exporter": "python",
   "pygments_lexer": "ipython3",
   "version": "3.12.7"
  }
 },
 "nbformat": 4,
 "nbformat_minor": 5
}
